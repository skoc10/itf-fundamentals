{
 "cells": [
  {
   "cell_type": "markdown",
   "id": "cd78a8bd",
   "metadata": {},
   "source": [
    "```Given a string containing just the characters '(', ')', '{', '}', '[' and ']',\n",
    "determine if the input string is valid.\n",
    "An input string is valid if:\n",
    "Open brackets must be closed by the same type of brackets.\n",
    "Open brackets must be closed in the correct order.\n",
    "Note that an empty string is also considered valid.\n",
    "Example 1:\n",
    "Input: \"()\"\n",
    "Output: True\n",
    "Example 2:\n",
    "Input: \"()[]{}\"\n",
    "Output: True\n",
    "Example 3:\n",
    "Input: \"(]\"\n",
    "Output: False\n",
    "Example 4:\n",
    "Input: \"([)]\"\n",
    "Output: False\n",
    "Example 5:\n",
    "Input: \"{[]}\"\n",
    "Output: True (edited) ```"
   ]
  },
  {
   "cell_type": "code",
   "execution_count": null,
   "id": "cdac5bf2",
   "metadata": {},
   "outputs": [],
   "source": [
    "ls = list(input('Enter your code: '))\n",
    "for i in ls:\n",
    "    if i not in ('(', ')', '[', ']', '{', '}'):\n",
    "        ls = list(input('Enter valid characters: '))         \n",
    "result = True  \n",
    "d = {'(':')', '[':']', '{':'}'}\n",
    "result = True \n",
    "n= 0\n",
    "for i in ls:\n",
    "    if d[i] not in ls[ls.index(i)+1:]:\n",
    "        result = False\n",
    "        break\n",
    "    for k in ls[ls.index(i)+1:]:\n",
    "        if k == d[i]:\n",
    "            while n != 0:\n",
    "                ls\n",
    "            ls.pop(ls.index(i))\n",
    "        else:\n",
    "            ls1.append(d[i])\n",
    "            n+=1"
   ]
  },
  {
   "cell_type": "code",
   "execution_count": null,
   "id": "a030fa7f",
   "metadata": {},
   "outputs": [],
   "source": [
    "{([])}"
   ]
  },
  {
   "cell_type": "code",
   "execution_count": 29,
   "id": "336b4811",
   "metadata": {},
   "outputs": [
    {
     "name": "stdout",
     "output_type": "stream",
     "text": [
      "Enter your code: {([])}\n",
      "[')', '}']\n",
      "6\n",
      "[')', '}']\n"
     ]
    },
    {
     "data": {
      "text/plain": [
       "False"
      ]
     },
     "execution_count": 29,
     "metadata": {},
     "output_type": "execute_result"
    }
   ],
   "source": [
    "ls = list(input('Enter your code: '))\n",
    "for i in ls:\n",
    "    if i not in ('(', ')', '[', ']', '{', '}'):\n",
    "        ls = list(input('Enter valid characters: '))         \n",
    "result = True  \n",
    "d = {'(':')', '[':']', '{':'}'}\n",
    "n = 0\n",
    "count = 0\n",
    "ls1 = []\n",
    "while n < len(ls)-1:\n",
    "    if d[ls[n]] not in ls[n+1:]:\n",
    "            print(43875)\n",
    "            result = False\n",
    "            break\n",
    "    if ls[n+1] == d[ls[n]]:\n",
    "        if count == 0:\n",
    "            n = n+2\n",
    "        else:\n",
    "            if ls[n+2:] == ls1.reverse():\n",
    "                n = n+2+count\n",
    "                ls1 = []\n",
    "                count = 0\n",
    "                print(ls)\n",
    "            else:\n",
    "                print(ls[n+2:n+2+count])\n",
    "                print(n+2+count)\n",
    "                print(ls1)\n",
    "                result = False\n",
    "                break\n",
    "            \n",
    "    else:\n",
    "        ls1.append(d[ls[n]])\n",
    "        count+=1\n",
    "        n+=1\n",
    "result           \n",
    "            "
   ]
  },
  {
   "cell_type": "code",
   "execution_count": 30,
   "id": "5efb73f5",
   "metadata": {},
   "outputs": [
    {
     "data": {
      "text/plain": [
       "6"
      ]
     },
     "execution_count": 30,
     "metadata": {},
     "output_type": "execute_result"
    }
   ],
   "source": [
    "len(ls)"
   ]
  },
  {
   "cell_type": "code",
   "execution_count": 24,
   "id": "5b484f61",
   "metadata": {},
   "outputs": [
    {
     "ename": "IndexError",
     "evalue": "list index out of range",
     "output_type": "error",
     "traceback": [
      "\u001b[0;31m---------------------------------------------------------------------------\u001b[0m",
      "\u001b[0;31mIndexError\u001b[0m                                Traceback (most recent call last)",
      "\u001b[0;32m<ipython-input-24-ce36394ee0a3>\u001b[0m in \u001b[0;36m<module>\u001b[0;34m\u001b[0m\n\u001b[0;32m----> 1\u001b[0;31m \u001b[0mls\u001b[0m\u001b[0;34m[\u001b[0m\u001b[0;36m6\u001b[0m\u001b[0;34m]\u001b[0m\u001b[0;34m\u001b[0m\u001b[0;34m\u001b[0m\u001b[0m\n\u001b[0m",
      "\u001b[0;31mIndexError\u001b[0m: list index out of range"
     ]
    }
   ],
   "source": [
    "ls[6]"
   ]
  },
  {
   "cell_type": "code",
   "execution_count": null,
   "id": "d8c07670",
   "metadata": {},
   "outputs": [],
   "source": []
  }
 ],
 "metadata": {
  "kernelspec": {
   "display_name": "Python 3",
   "language": "python",
   "name": "python3"
  },
  "language_info": {
   "codemirror_mode": {
    "name": "ipython",
    "version": 3
   },
   "file_extension": ".py",
   "mimetype": "text/x-python",
   "name": "python",
   "nbconvert_exporter": "python",
   "pygments_lexer": "ipython3",
   "version": "3.8.8"
  }
 },
 "nbformat": 4,
 "nbformat_minor": 5
}
