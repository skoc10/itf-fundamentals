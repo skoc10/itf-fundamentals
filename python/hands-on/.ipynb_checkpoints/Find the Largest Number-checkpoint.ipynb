{
 "cells": [
  {
   "cell_type": "markdown",
   "id": "1bbb4d79",
   "metadata": {
    "id": "gHzlOoHgI58l"
   },
   "source": [
    "## Coding Challenge-1 : Find the Largest Number\n",
    "\n",
    "Purpose of the this coding challenge is to solve a simple sorting problem in Python.\n",
    "\n",
    "### Learning Outcomes\n",
    "\n",
    "At the end of the this coding challenge, students will be able to;\n",
    "\n",
    "- get a basic understanding of sorting algorithms.\n",
    "- demonstrate their knowledge of lists in python\n",
    "- implement loops to solve the problems in python\n",
    "- get a better understanding of computational thinking concepts\n",
    "\n",
    "### Problem Statement\n",
    "  \n",
    "- Write a python code that finds the largest number among the ``n`` numbers given by the user as input.\n",
    "\n",
    "- First, take `n` from the user, then take `n` numbers one by one and select-print the largest one.\n",
    "\n",
    "- It is forbidden to use ``max()`` function.  \n",
    "\n",
    "- Indicate which computational thinking concepts have you used.\n",
    "\n",
    "- Example for user inputs and respective outputs\n",
    "\n",
    "```text\n",
    "Input                Output\n",
    "---------------:     -------------------------:\n",
    "n = 5, 1 2 3 4 5     The largest number is:  5\n",
    "n = 3, 67 85 19      The largest number is:  85\n",
    "```"
   ]
  },
  {
   "cell_type": "code",
   "execution_count": null,
   "id": "809aed44",
   "metadata": {},
   "outputs": [],
   "source": [
    "n = int(input('How many numbers will you enter? : '))\n",
    "ls = []\n",
    "for i in range(1, n+1):\n",
    "    x = int(input(f'Number{i}: '))\n",
    "    ls.append(x)\n",
    "for i in range(len(ls)-1):\n",
    "    if ls[i] > ls[i+1]:\n",
    "        max_num = ls[i]\n",
    "    else:\n",
    "        max_num = ls[i+1]\n",
    "print(f'The largest number is: {max_num}')"
   ]
  },
  {
   "cell_type": "code",
   "execution_count": null,
   "id": "292cf0f6",
   "metadata": {},
   "outputs": [],
   "source": [
    "n = int(input('How many numbers will you enter? : '))\n",
    "ls = [0]\n",
    "for i in range(1, n+1):\n",
    "    x = int(input(f'Number{i}: '))\n",
    "    if x > ls[0]:\n",
    "        ls[0] = x\n",
    "print(f'The largest number is: {ls[0]}')"
   ]
  }
 ],
 "metadata": {
  "kernelspec": {
   "display_name": "Python 3",
   "language": "python",
   "name": "python3"
  },
  "language_info": {
   "codemirror_mode": {
    "name": "ipython",
    "version": 3
   },
   "file_extension": ".py",
   "mimetype": "text/x-python",
   "name": "python",
   "nbconvert_exporter": "python",
   "pygments_lexer": "ipython3",
   "version": "3.8.8"
  }
 },
 "nbformat": 4,
 "nbformat_minor": 5
}
