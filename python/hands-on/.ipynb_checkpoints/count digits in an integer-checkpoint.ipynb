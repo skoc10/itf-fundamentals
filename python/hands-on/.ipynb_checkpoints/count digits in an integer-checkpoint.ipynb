{
 "cells": [
  {
   "cell_type": "markdown",
   "id": "ba63a204",
   "metadata": {},
   "source": [
    "Imagine you took all the numbers between 0 and n and concatenated them together into a long string.\n",
    "How many digits are there between 0 and n? Write a function that can calculate this.\n",
    "\n",
    "There are 0 digits between 0 and 1, there are 9 digits between 0 and 10 and there are 189 digits between 0 and 100.\n",
    "\n",
    "Examples digits(1) ➞ 0\n",
    "\n",
    "digits(10) ➞ 9\n",
    "\n",
    "digits(100) ➞ 189\n",
    "\n",
    "digits(2020) ➞ 6969\n",
    "\n",
    "Notes The numbers are going to be rather big so creating that string won't be practical.\n",
    "\n",
    "(Eğer fonksiyonlar bitmediyse kullanıcadan input alarak da çözebilirsiniz)"
   ]
  },
  {
   "cell_type": "code",
   "execution_count": 47,
   "id": "c812c488",
   "metadata": {},
   "outputs": [],
   "source": [
    "def ndigit(n):\n",
    "    result = 0\n",
    "    for i in range(1, n):\n",
    "        count = 0\n",
    "        while i!=0:\n",
    "            i//=10\n",
    "            count+=1\n",
    "        result+=count\n",
    "    return result"
   ]
  },
  {
   "cell_type": "code",
   "execution_count": 57,
   "id": "355b3844",
   "metadata": {},
   "outputs": [
    {
     "data": {
      "text/plain": [
       "6969"
      ]
     },
     "execution_count": 57,
     "metadata": {},
     "output_type": "execute_result"
    }
   ],
   "source": [
    "ndigit(2020)"
   ]
  },
  {
   "cell_type": "code",
   "execution_count": null,
   "id": "0ec15e8c",
   "metadata": {},
   "outputs": [],
   "source": []
  }
 ],
 "metadata": {
  "kernelspec": {
   "display_name": "Python 3",
   "language": "python",
   "name": "python3"
  },
  "language_info": {
   "codemirror_mode": {
    "name": "ipython",
    "version": 3
   },
   "file_extension": ".py",
   "mimetype": "text/x-python",
   "name": "python",
   "nbconvert_exporter": "python",
   "pygments_lexer": "ipython3",
   "version": "3.8.8"
  }
 },
 "nbformat": 4,
 "nbformat_minor": 5
}
