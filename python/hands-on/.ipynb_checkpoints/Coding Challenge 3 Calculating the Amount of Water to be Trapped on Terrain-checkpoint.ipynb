{
 "cells": [
  {
   "cell_type": "markdown",
   "id": "c62f3038",
   "metadata": {
    "id": "TWLcDf17I586"
   },
   "source": [
    "## Coding Challenge - 3: Calculating the Amount of Water to be Trapped on Terrain\n",
    "\n",
    "The purpose of this coding challenge is to write a program that calculates the amount of water that can be contained within the generated holes.\n",
    "\n",
    "### Learning Outcomes\n",
    "\n",
    "At the end of this coding challenge, students will be able to;\n",
    "\n",
    "- analyze a problem, identify, and apply programming knowledge for appropriate solution.\n",
    "\n",
    "- design, implement `while` loops effectively in Python to solve the given problem.\n",
    "\n",
    "- control loops effectively by using `if` and `control` statements.\n",
    "\n",
    "- demonstrate their knowledge of algorithmic design principles by using solving the problem effectively.\n",
    "\n",
    "### Problem Statement\n",
    "\n",
    "- Given an array of non-negative integers representing an elevation map as shown below where the width of each bar is 1, compute how much water will be trapped on terrain after raining. To clarify further, the black boxes represents terrain and its height, and the blue boxes represents the water that could be trapped on the terrain.\n",
    "\n",
    "<center><img src=\"https://raw.githubusercontent.com/andrewfade/myprojects/main/image.png\" /></center>\n",
    "\n",
    "- User can enter as many numbers as they want to represent elevation of the terrain.\n",
    "\n",
    "- You can assume all the inputs are valid, thus you don't have to do an input check.\n",
    "\n",
    "- At the end of the program write a comment that indicates which computational thinking heuristics you have used and how you used them.\n",
    "\n",
    "- Example of user inputs and respective outputs.\n",
    "\n",
    "```text\n",
    "Inputs\n",
    "------------------------------\n",
    "Type 'ok' when you are done: 5\n",
    "Type 'ok' when you are done: 4\n",
    "Type 'ok' when you are done: 5\n",
    "Type 'ok' when you are done: ok\n",
    "\n",
    "Output\n",
    "------\n",
    "1\n",
    "\n",
    "Inputs\n",
    "------------------------------\n",
    "Type 'ok' when you are done: 2\n",
    "Type 'ok' when you are done: 1\n",
    "Type 'ok' when you are done: 2\n",
    "Type 'ok' when you are done: 3\n",
    "Type 'ok' when you are done: 2\n",
    "Type 'ok' when you are done: 3\n",
    "Type 'ok' when you are done: ok\n",
    "\n",
    "Output\n",
    "------\n",
    "2\n",
    "\n",
    "Inputs\n",
    "------------------------------\n",
    "Type 'ok' when you are done: 6\n",
    "Type 'ok' when you are done: 5\n",
    "Type 'ok' when you are done: 8\n",
    "Type 'ok' when you are done: 9\n",
    "Type 'ok' when you are done: 2\n",
    "Type 'ok' when you are done: 4\n",
    "Type 'ok' when you are done: 3\n",
    "Type 'ok' when you are done: 6\n",
    "Type 'ok' when you are done: ok\n",
    "\n",
    "Output\n",
    "------\n",
    "10\n",
    "```"
   ]
  },
  {
   "cell_type": "code",
   "execution_count": 7,
   "id": "1f66994b",
   "metadata": {},
   "outputs": [
    {
     "name": "stdout",
     "output_type": "stream",
     "text": [
      "Type 'ok' when you are done: 4\n",
      "Type 'ok' when you are done: 2\n",
      "Type 'ok' when you are done: 3\n",
      "Type 'ok' when you are done: 6\n",
      "Type 'ok' when you are done: 4\n",
      "Type 'ok' when you are done: 2\n",
      "Type 'ok' when you are done: ok\n"
     ]
    }
   ],
   "source": [
    "ls = []\n",
    "while True:\n",
    "    answer = input(\"Type 'ok' when you are done: \")\n",
    "    if answer.lower() == 'ok':\n",
    "        break\n",
    "    else:\n",
    "        ls.append(int(answer))"
   ]
  },
  {
   "cell_type": "markdown",
   "id": "36041a84",
   "metadata": {},
   "source": [
    "8\n",
    "## ls"
   ]
  },
  {
   "cell_type": "code",
   "execution_count": null,
   "id": "4688ce63",
   "metadata": {},
   "outputs": [],
   "source": []
  }
 ],
 "metadata": {
  "kernelspec": {
   "display_name": "Python 3",
   "language": "python",
   "name": "python3"
  },
  "language_info": {
   "codemirror_mode": {
    "name": "ipython",
    "version": 3
   },
   "file_extension": ".py",
   "mimetype": "text/x-python",
   "name": "python",
   "nbconvert_exporter": "python",
   "pygments_lexer": "ipython3",
   "version": "3.8.8"
  }
 },
 "nbformat": 4,
 "nbformat_minor": 5
}
