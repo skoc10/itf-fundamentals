{
 "cells": [
  {
   "cell_type": "markdown",
   "id": "7db09ff6",
   "metadata": {},
   "source": [
    "This challenge is based on the classic videogame \"Snake\".\n",
    "\n",
    "Assume the game screen is an n * n square, and the snake starts the game with length 1 (i.e. just the head) positioned on the top left corner.\n",
    "\n",
    "For example, if n = 7 the game looks something like this:\n",
    "\n",
    "\n",
    "\n",
    "In this version of the game, the length of the snake doubles each time it eats food (e.g. if the length is 4, after eating it becomes 8).\n",
    "\n",
    "Create a function that takes the side n of the game screen and returns the number of times the snake can eat before it runs out of space in the game screen.\n",
    "\n",
    "Examples\n",
    "\n",
    "snakefill(3) ➞ 3\n",
    "\n",
    "snakefill(6) ➞ 5\n",
    "\n",
    "snakefill(24) ➞ 9\n",
    "\n",
    "Notes\n",
    "\n",
    "The given number will always be a positive integer (there are no exceptions to handle)."
   ]
  },
  {
   "cell_type": "code",
   "execution_count": 7,
   "id": "8de468c0",
   "metadata": {},
   "outputs": [],
   "source": [
    "def snakefill(n):\n",
    "    snake = 1\n",
    "    food = -1\n",
    "    while snake < n*n:\n",
    "        snake*=2\n",
    "        food+=1\n",
    "    return food"
   ]
  },
  {
   "cell_type": "code",
   "execution_count": 10,
   "id": "40ff8eb0",
   "metadata": {},
   "outputs": [
    {
     "data": {
      "text/plain": [
       "9"
      ]
     },
     "execution_count": 10,
     "metadata": {},
     "output_type": "execute_result"
    }
   ],
   "source": [
    "snakefill(24)"
   ]
  },
  {
   "cell_type": "code",
   "execution_count": null,
   "id": "e9613748",
   "metadata": {},
   "outputs": [],
   "source": []
  }
 ],
 "metadata": {
  "kernelspec": {
   "display_name": "Python 3",
   "language": "python",
   "name": "python3"
  },
  "language_info": {
   "codemirror_mode": {
    "name": "ipython",
    "version": 3
   },
   "file_extension": ".py",
   "mimetype": "text/x-python",
   "name": "python",
   "nbconvert_exporter": "python",
   "pygments_lexer": "ipython3",
   "version": "3.8.8"
  }
 },
 "nbformat": 4,
 "nbformat_minor": 5
}
