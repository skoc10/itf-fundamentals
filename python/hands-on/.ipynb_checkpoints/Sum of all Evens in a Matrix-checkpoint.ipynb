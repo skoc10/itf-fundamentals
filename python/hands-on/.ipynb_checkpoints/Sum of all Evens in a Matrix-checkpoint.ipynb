{
 "cells": [
  {
   "cell_type": "markdown",
   "id": "15197d97",
   "metadata": {},
   "source": [
    "```\n",
    "Sum of all Evens in a Matrix\n",
    "Create a function that returns the sum of all even elements in a 2D matrix.\n",
    "\n",
    "Examples\n",
    "sum_of_evens([\n",
    "  [1, 0, 2],\n",
    "  [5, 5, 7],\n",
    "  [9, 4, 3]\n",
    "]) ➞ 6\n",
    "\n",
    "// 2 + 4 = 6\n",
    "\n",
    "sum_of_evens([\n",
    "  [1, 1],\n",
    "  [1, 1]\n",
    "]) ➞ 0\n",
    "\n",
    "sum_of_evens([\n",
    "  [42, 9],\n",
    "  [16, 8]\n",
    "]) ➞ 66\n",
    "\n",
    "sum_of_evens([\n",
    "  [],\n",
    "  [],\n",
    "  []\n",
    "]) ➞ 0\n",
    "Notes\n",
    "Submatrices will be of equal length.\n",
    "Return 0 if the 2D matrix only consists of empty submatrices.\n",
    "```"
   ]
  },
  {
   "cell_type": "code",
   "execution_count": 7,
   "id": "9e5d3bc6",
   "metadata": {},
   "outputs": [],
   "source": [
    "def sum_of_evens(lm):\n",
    "    result = 0\n",
    "    for i in range(len(lm)):\n",
    "        if [] in lm:\n",
    "            break\n",
    "        for k in lm:\n",
    "            if k[i] % 2 == 0:\n",
    "                result+=k[i]\n",
    "    return result"
   ]
  },
  {
   "cell_type": "code",
   "execution_count": 8,
   "id": "02fd4942",
   "metadata": {},
   "outputs": [
    {
     "data": {
      "text/plain": [
       "0"
      ]
     },
     "execution_count": 8,
     "metadata": {},
     "output_type": "execute_result"
    }
   ],
   "source": [
    "sum_of_evens([\n",
    "  [],\n",
    "  [],\n",
    "  []\n",
    "])"
   ]
  },
  {
   "cell_type": "code",
   "execution_count": 9,
   "id": "17b54f26",
   "metadata": {},
   "outputs": [
    {
     "data": {
      "text/plain": [
       "6"
      ]
     },
     "execution_count": 9,
     "metadata": {},
     "output_type": "execute_result"
    }
   ],
   "source": [
    "sum_of_evens([\n",
    "  [1, 0, 2],\n",
    "  [5, 5, 7],\n",
    "  [9, 4, 3]\n",
    "]) "
   ]
  },
  {
   "cell_type": "code",
   "execution_count": null,
   "id": "eed06d35",
   "metadata": {},
   "outputs": [],
   "source": []
  }
 ],
 "metadata": {
  "kernelspec": {
   "display_name": "Python 3",
   "language": "python",
   "name": "python3"
  },
  "language_info": {
   "codemirror_mode": {
    "name": "ipython",
    "version": 3
   },
   "file_extension": ".py",
   "mimetype": "text/x-python",
   "name": "python",
   "nbconvert_exporter": "python",
   "pygments_lexer": "ipython3",
   "version": "3.8.8"
  }
 },
 "nbformat": 4,
 "nbformat_minor": 5
}
