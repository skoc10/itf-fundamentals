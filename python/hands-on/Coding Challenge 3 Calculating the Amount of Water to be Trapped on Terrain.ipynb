{
 "cells": [
  {
   "cell_type": "markdown",
   "id": "c62f3038",
   "metadata": {
    "id": "TWLcDf17I586"
   },
   "source": [
    "## Coding Challenge - 3: Calculating the Amount of Water to be Trapped on Terrain\n",
    "\n",
    "The purpose of this coding challenge is to write a program that calculates the amount of water that can be contained within the generated holes.\n",
    "\n",
    "### Learning Outcomes\n",
    "\n",
    "At the end of this coding challenge, students will be able to;\n",
    "\n",
    "- analyze a problem, identify, and apply programming knowledge for appropriate solution.\n",
    "\n",
    "- design, implement `while` loops effectively in Python to solve the given problem.\n",
    "\n",
    "- control loops effectively by using `if` and `control` statements.\n",
    "\n",
    "- demonstrate their knowledge of algorithmic design principles by using solving the problem effectively.\n",
    "\n",
    "### Problem Statement\n",
    "\n",
    "- Given an array of non-negative integers representing an elevation map as shown below where the width of each bar is 1, compute how much water will be trapped on terrain after raining. To clarify further, the black boxes represents terrain and its height, and the blue boxes represents the water that could be trapped on the terrain.\n",
    "\n",
    "<center><img src=\"https://raw.githubusercontent.com/andrewfade/myprojects/main/image.png\" /></center>\n",
    "\n",
    "- User can enter as many numbers as they want to represent elevation of the terrain.\n",
    "\n",
    "- You can assume all the inputs are valid, thus you don't have to do an input check.\n",
    "\n",
    "- At the end of the program write a comment that indicates which computational thinking heuristics you have used and how you used them.\n",
    "\n",
    "- Example of user inputs and respective outputs.\n",
    "\n",
    "```text\n",
    "Inputs\n",
    "------------------------------\n",
    "Type 'ok' when you are done: 5\n",
    "Type 'ok' when you are done: 4\n",
    "Type 'ok' when you are done: 5\n",
    "Type 'ok' when you are done: ok\n",
    "\n",
    "Output\n",
    "------\n",
    "1\n",
    "\n",
    "Inputs\n",
    "------------------------------\n",
    "Type 'ok' when you are done: 2\n",
    "Type 'ok' when you are done: 1\n",
    "Type 'ok' when you are done: 2\n",
    "Type 'ok' when you are done: 3\n",
    "Type 'ok' when you are done: 2\n",
    "Type 'ok' when you are done: 3\n",
    "Type 'ok' when you are done: ok\n",
    "\n",
    "Output\n",
    "------\n",
    "2\n",
    "\n",
    "Inputs\n",
    "------------------------------\n",
    "Type 'ok' when you are done: 6\n",
    "Type 'ok' when you are done: 5\n",
    "Type 'ok' when you are done: 8\n",
    "Type 'ok' when you are done: 9\n",
    "Type 'ok' when you are done: 2\n",
    "Type 'ok' when you are done: 4\n",
    "Type 'ok' when you are done: 3\n",
    "Type 'ok' when you are done: 6\n",
    "Type 'ok' when you are done: ok\n",
    "\n",
    "Output\n",
    "------\n",
    "10\n",
    "```"
   ]
  },
  {
   "cell_type": "code",
   "execution_count": 176,
   "id": "109bed1c",
   "metadata": {},
   "outputs": [],
   "source": [
    "def cukur(ls):\n",
    "    a = 0\n",
    "    b = 1\n",
    "    n = 0\n",
    "    print(ls)\n",
    "    while b < len(ls):\n",
    "        if ls[a] > ls[b]:\n",
    "            while ls[a] > ls[b]:\n",
    "                    n+=ls[a]-ls[b]\n",
    "                    b+=1\n",
    "                    if b == len(ls):\n",
    "                        break\n",
    "            a = b\n",
    "            b = a+1\n",
    "        else:\n",
    "            a = b\n",
    "            b +=1\n",
    "    return n   "
   ]
  },
  {
   "cell_type": "code",
   "execution_count": 177,
   "id": "0b54a483",
   "metadata": {},
   "outputs": [
    {
     "name": "stdout",
     "output_type": "stream",
     "text": [
      "Type 'ok' when you are done: 6\n",
      "Type 'ok' when you are done: 5\n",
      "Type 'ok' when you are done: 0\n",
      "Type 'ok' when you are done: 5\n",
      "Type 'ok' when you are done: 2\n",
      "Type 'ok' when you are done: 0\n",
      "Type 'ok' when you are done: 2\n",
      "Type 'ok' when you are done: 0\n",
      "Type 'ok' when you are done: ok\n",
      "[]\n",
      "[0]\n",
      "[6, 5]\n",
      "[6]\n",
      "0\n",
      "[0]\n",
      "0\n",
      "[6, 5]\n",
      "1\n"
     ]
    },
    {
     "data": {
      "text/plain": [
       "1"
      ]
     },
     "execution_count": 177,
     "metadata": {},
     "output_type": "execute_result"
    }
   ],
   "source": [
    "ls = []\n",
    "while True:\n",
    "    answer = input(\"Type 'ok' when you are done: \")\n",
    "    if answer.lower() == 'ok':\n",
    "        break\n",
    "    else:\n",
    "        ls.append(int(answer))\n",
    "ls_max = max(ls)\n",
    "num = cukur(ls[:ls.index(ls_max)]) + cukur(ls[::-1][:ls.index(ls_max)+1])\n",
    "num += cukur(ls[(ls.index(ls_max)):(ls[::-1][ls.index(ls_max)+1])])\n",
    "print(cukur(ls[:ls.index(ls_max)+1]))\n",
    "print(cukur(ls[::-1][:ls.index(ls_max)+1]))\n",
    "print(cukur(ls[(ls.index(ls_max)):(ls[::-1][ls.index(ls_max)+1])]))\n",
    "num"
   ]
  },
  {
   "cell_type": "markdown",
   "id": "b1840b33",
   "metadata": {},
   "source": []
  },
  {
   "cell_type": "code",
   "execution_count": 126,
   "id": "53314594",
   "metadata": {},
   "outputs": [],
   "source": [
    "def bul(ls1):\n",
    "    m = min(ls1[0], ls1[-1])\n",
    "    n=0\n",
    "    ls1.sort(reverse = True)\n",
    "    for i in ls1[2:]:\n",
    "        if m > i:\n",
    "            n += ls1[1]-i\n",
    "    return n"
   ]
  },
  {
   "cell_type": "code",
   "execution_count": 132,
   "id": "e09057bb",
   "metadata": {},
   "outputs": [],
   "source": [
    "def kes(ls2):\n",
    "    x = 0\n",
    "    while x < len(ls2)-1:\n",
    "        if ls2[x] < ls2[x+1]:\n",
    "            ls2.remove(ls2[x])\n",
    "        else:\n",
    "            break\n",
    "    return ls2[::-1]"
   ]
  },
  {
   "cell_type": "code",
   "execution_count": 135,
   "id": "1f66994b",
   "metadata": {
    "scrolled": false
   },
   "outputs": [
    {
     "name": "stdout",
     "output_type": "stream",
     "text": [
      "Type 'ok' when you are done: 5\n",
      "Type 'ok' when you are done: 0\n",
      "Type 'ok' when you are done: 0\n",
      "Type 'ok' when you are done: 5\n",
      "Type 'ok' when you are done: 4\n",
      "Type 'ok' when you are done: 3\n",
      "Type 'ok' when you are done: 0\n",
      "Type 'ok' when you are done: 2\n",
      "Type 'ok' when you are done: 2\n",
      "Type 'ok' when you are done: 0\n",
      "Type 'ok' when you are done: 1\n",
      "Type 'ok' when you are done: 0\n",
      "Type 'ok' when you are done: ok\n",
      "[5, 0, 0, 5, 4, 3, 0, 2, 2, 0, 1]\n",
      "[5, 0, 0, 5]\n",
      "[4, 3, 0, 2, 2, 0, 1]\n"
     ]
    },
    {
     "data": {
      "text/plain": [
       "16"
      ]
     },
     "execution_count": 135,
     "metadata": {},
     "output_type": "execute_result"
    }
   ],
   "source": [
    "ls = []\n",
    "while True:\n",
    "    answer = input(\"Type 'ok' when you are done: \")\n",
    "    if answer.lower() == 'ok':\n",
    "        break\n",
    "    else:\n",
    "        ls.append(int(answer))\n",
    "ls = kes(ls[::-1])\n",
    "print(ls)\n",
    "a = 0\n",
    "b = 1\n",
    "num = 0\n",
    "while b <= len(ls)-1:\n",
    "    if ls[a] > ls[b]:\n",
    "        while ls[a] > ls[b]: \n",
    "            b+=1\n",
    "            if b > len(ls)-1:\n",
    "                break\n",
    "    print(ls[a:b+1])\n",
    "    num+=bul(ls[a:b+1])\n",
    "        \n",
    "    a = b+1\n",
    "    b = a+1\n",
    "num"
   ]
  },
  {
   "cell_type": "code",
   "execution_count": null,
   "id": "35c84730",
   "metadata": {},
   "outputs": [],
   "source": []
  }
 ],
 "metadata": {
  "kernelspec": {
   "display_name": "Python 3",
   "language": "python",
   "name": "python3"
  },
  "language_info": {
   "codemirror_mode": {
    "name": "ipython",
    "version": 3
   },
   "file_extension": ".py",
   "mimetype": "text/x-python",
   "name": "python",
   "nbconvert_exporter": "python",
   "pygments_lexer": "ipython3",
   "version": "3.8.8"
  }
 },
 "nbformat": 4,
 "nbformat_minor": 5
}
