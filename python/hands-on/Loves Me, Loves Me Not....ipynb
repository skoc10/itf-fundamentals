{
 "cells": [
  {
   "cell_type": "markdown",
   "id": "815fe01d",
   "metadata": {},
   "source": [
    "\"Loves me, loves me not\" is a traditional game in which a person plucks off all the petals of a flower one by one, saying the phrase \"Loves me\" and \"Loves me not\" when determining whether the one that they love, loves them back.\n",
    "\n",
    "Given a number of petals, return a string which repeats the phrases \"Loves me\" and \"Loves me not\" for every alternating petal, and return the last phrase in all caps. Remember to put a comma and space between phrases.\n",
    "\n",
    "Examples\n",
    "\n",
    "loves_me(3) ➞ \"Loves me, Loves me not, LOVES ME\"\n",
    "\n",
    "loves_me(6) ➞ \"Loves me, Loves me not, Loves me, Loves me not, Loves me, LOVES ME NOT\"\n",
    "\n",
    "loves_me(1) ➞ \"LOVES ME\"\n",
    "\n",
    "Notes\n",
    "\n",
    "Remember to return a string.\n",
    "The first phrase is always \"Loves me\"."
   ]
  },
  {
   "cell_type": "code",
   "execution_count": 3,
   "id": "230e9df2",
   "metadata": {},
   "outputs": [
    {
     "name": "stdout",
     "output_type": "stream",
     "text": [
      "Give me a number of petals: 6\n"
     ]
    },
    {
     "data": {
      "text/plain": [
       "'Loves me, Loves me not, Loves me, Loves me not, Loves me, LOVES ME NOT'"
      ]
     },
     "execution_count": 3,
     "metadata": {},
     "output_type": "execute_result"
    }
   ],
   "source": [
    "n = int(input('Give me a number of petals: '))\n",
    "s = ''\n",
    "for i in range(1, n+1):\n",
    "    if i%2:\n",
    "        if i == n:\n",
    "            s+='Loves me, '.strip('., ').upper()\n",
    "        else:\n",
    "            s+='Loves me, '\n",
    "    else:\n",
    "        if i == n:\n",
    "            s+='Loves me not, '.strip('., ').upper()\n",
    "        else:\n",
    "            s+='Loves me not, '\n",
    "s"
   ]
  },
  {
   "cell_type": "code",
   "execution_count": 4,
   "id": "698154ea",
   "metadata": {},
   "outputs": [],
   "source": [
    "def loves_me(n):\n",
    "\tlst = [\"Loves me\"+\" not\"*(i%2) for i in range(n)]\n",
    "\tlst[-1] = lst[-1].upper()\n",
    "\treturn \", \".join(lst)"
   ]
  },
  {
   "cell_type": "code",
   "execution_count": 5,
   "id": "5275e62f",
   "metadata": {},
   "outputs": [
    {
     "data": {
      "text/plain": [
       "'Loves me, Loves me not, Loves me, Loves me not, Loves me, LOVES ME NOT'"
      ]
     },
     "execution_count": 5,
     "metadata": {},
     "output_type": "execute_result"
    }
   ],
   "source": [
    "loves_me(6)"
   ]
  },
  {
   "cell_type": "code",
   "execution_count": 8,
   "id": "16ac5368",
   "metadata": {},
   "outputs": [],
   "source": [
    "def loves_me1(n):\n",
    "    x = \"Loves me\"\n",
    "    y = \"Loves me not\"\n",
    "    lst = [x if i%2==0 else y for i in range(n)]\n",
    "    lst[-1] = lst[-1].upper()\n",
    "    return \", \".join(lst)"
   ]
  },
  {
   "cell_type": "code",
   "execution_count": 9,
   "id": "23b0fa1d",
   "metadata": {},
   "outputs": [
    {
     "data": {
      "text/plain": [
       "'Loves me, Loves me not, Loves me, Loves me not, Loves me, LOVES ME NOT'"
      ]
     },
     "execution_count": 9,
     "metadata": {},
     "output_type": "execute_result"
    }
   ],
   "source": [
    "loves_me1(6)"
   ]
  },
  {
   "cell_type": "code",
   "execution_count": 10,
   "id": "b4bc09bd",
   "metadata": {},
   "outputs": [
    {
     "name": "stdout",
     "output_type": "stream",
     "text": [
      "Loves me, Loves me not, Loves me, Loves me not, Loves me, LOVES ME NOT\n"
     ]
    }
   ],
   "source": [
    "def loves_me(num):    \n",
    "    text = 'Loves me'\n",
    "    result = ''\n",
    "    for i in range(1, num + 1):\n",
    "        if i % 2 == 0:\n",
    "            res = text + ' not'\n",
    "        else:\n",
    "            res = text\n",
    "        if i == num:\n",
    "            res = res.upper()\n",
    "        result += res + ', '\n",
    "    result = result.strip(', ')\n",
    "    return result\n",
    "print(loves_me(6))"
   ]
  },
  {
   "cell_type": "code",
   "execution_count": null,
   "id": "8d326a22",
   "metadata": {},
   "outputs": [],
   "source": []
  }
 ],
 "metadata": {
  "kernelspec": {
   "display_name": "Python 3",
   "language": "python",
   "name": "python3"
  },
  "language_info": {
   "codemirror_mode": {
    "name": "ipython",
    "version": 3
   },
   "file_extension": ".py",
   "mimetype": "text/x-python",
   "name": "python",
   "nbconvert_exporter": "python",
   "pygments_lexer": "ipython3",
   "version": "3.8.8"
  }
 },
 "nbformat": 4,
 "nbformat_minor": 5
}
