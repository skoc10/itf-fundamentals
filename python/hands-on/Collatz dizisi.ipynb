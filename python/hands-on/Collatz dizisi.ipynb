{
 "cells": [
  {
   "cell_type": "markdown",
   "id": "2c66808e",
   "metadata": {},
   "source": [
    "Collatz dizisi uzunluğunu bulunuz.Collatz dizisinde bir sonraki sayıyı bulma kuralı şöyledir:\n",
    "\n",
    "ni çift sayıysa: ni+1=ni/2\n",
    "\n",
    "ni tek sayıysa: ni+1=3ni+1\n",
    "\n",
    "ni=1 ise dur.\n",
    "\n",
    "Söz gelişi, 13 ile başlayan bir dizi aşağıdaki gibi olur.\n",
    "\n",
    "13, 40, 20, 10, 5, 16, 8, 4, 2, 1"
   ]
  },
  {
   "cell_type": "code",
   "execution_count": 25,
   "id": "94d38bb1",
   "metadata": {},
   "outputs": [
    {
     "name": "stdout",
     "output_type": "stream",
     "text": [
      "10\n"
     ]
    }
   ],
   "source": [
    "def collatz(n):\n",
    "    ls = [n]\n",
    "    while n!=1:\n",
    "        if n%2:\n",
    "            ls.append(int(n*3+1))\n",
    "            n = n*3+1\n",
    "        else:\n",
    "            ls.append(int(n/2))\n",
    "            n = n/2\n",
    "    return len(ls)\n",
    "print(collatz(13))"
   ]
  },
  {
   "cell_type": "code",
   "execution_count": null,
   "id": "6cb692a5",
   "metadata": {},
   "outputs": [],
   "source": []
  }
 ],
 "metadata": {
  "kernelspec": {
   "display_name": "Python 3",
   "language": "python",
   "name": "python3"
  },
  "language_info": {
   "codemirror_mode": {
    "name": "ipython",
    "version": 3
   },
   "file_extension": ".py",
   "mimetype": "text/x-python",
   "name": "python",
   "nbconvert_exporter": "python",
   "pygments_lexer": "ipython3",
   "version": "3.8.8"
  }
 },
 "nbformat": 4,
 "nbformat_minor": 5
}
