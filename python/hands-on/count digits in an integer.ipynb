{
 "cells": [
  {
   "cell_type": "markdown",
   "id": "210c3bed",
   "metadata": {},
   "source": [
    "Imagine you took all the numbers between 0 and n and concatenated them together into a long string.\n",
    "How many digits are there between 0 and n? Write a function that can calculate this.\n",
    "\n",
    "There are 0 digits between 0 and 1, there are 9 digits between 0 and 10 and there are 189 digits between 0 and 100.\n",
    "\n",
    "Examples digits(1) ➞ 0\n",
    "\n",
    "digits(10) ➞ 9\n",
    "\n",
    "digits(100) ➞ 189\n",
    "\n",
    "digits(2020) ➞ 6969\n",
    "\n",
    "Notes The numbers are going to be rather big so creating that string won't be practical.\n",
    "\n",
    "(Eğer fonksiyonlar bitmediyse kullanıcadan input alarak da çözebilirsiniz)"
   ]
  },
  {
   "cell_type": "code",
   "execution_count": 47,
   "id": "bfa29100",
   "metadata": {},
   "outputs": [],
   "source": [
    "def ndigit(n):\n",
    "    result = 0\n",
    "    for i in range(1, n):\n",
    "        count = 0\n",
    "        while i!=0:\n",
    "            i//=10\n",
    "            count+=1\n",
    "        result+=count\n",
    "    return result"
   ]
  },
  {
   "cell_type": "code",
   "execution_count": 51,
   "id": "8edfd5c6",
   "metadata": {},
   "outputs": [
    {
     "data": {
      "text/plain": [
       "9"
      ]
     },
     "execution_count": 51,
     "metadata": {},
     "output_type": "execute_result"
    }
   ],
   "source": [
    "ndigit(10)"
   ]
  },
  {
   "cell_type": "code",
   "execution_count": 43,
   "id": "377af233",
   "metadata": {},
   "outputs": [
    {
     "data": {
      "text/plain": [
       "0"
      ]
     },
     "execution_count": 43,
     "metadata": {},
     "output_type": "execute_result"
    }
   ],
   "source": [
    "i//=10\n",
    "i"
   ]
  },
  {
   "cell_type": "code",
   "execution_count": 41,
   "id": "28f6f348",
   "metadata": {},
   "outputs": [
    {
     "data": {
      "text/plain": [
       "5"
      ]
     },
     "execution_count": 41,
     "metadata": {},
     "output_type": "execute_result"
    }
   ],
   "source": [
    "n = 40000\n",
    "count = 0\n",
    "while n!=0:\n",
    "    n//=10\n",
    "    count+=1\n",
    "count"
   ]
  },
  {
   "cell_type": "code",
   "execution_count": 56,
   "id": "40c78113",
   "metadata": {},
   "outputs": [
    {
     "name": "stdout",
     "output_type": "stream",
     "text": [
      "6969\n"
     ]
    }
   ],
   "source": [
    "listem=[]\n",
    "def digit(kul):\n",
    "    for sayi in range(1, kul):\n",
    "        basamak = 1\n",
    "        while sayi>=10:\n",
    "            sayi/=10\n",
    "            basamak+=1\n",
    "        listem.append(basamak)\n",
    "    return sum(listem)\n",
    "print(digit(2020))"
   ]
  },
  {
   "cell_type": "code",
   "execution_count": null,
   "id": "9ef1ef49",
   "metadata": {},
   "outputs": [],
   "source": []
  }
 ],
 "metadata": {
  "kernelspec": {
   "display_name": "Python 3",
   "language": "python",
   "name": "python3"
  },
  "language_info": {
   "codemirror_mode": {
    "name": "ipython",
    "version": 3
   },
   "file_extension": ".py",
   "mimetype": "text/x-python",
   "name": "python",
   "nbconvert_exporter": "python",
   "pygments_lexer": "ipython3",
   "version": "3.8.8"
  }
 },
 "nbformat": 4,
 "nbformat_minor": 5
}
