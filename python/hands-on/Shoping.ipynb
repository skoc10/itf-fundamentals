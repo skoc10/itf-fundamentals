{
 "cells": [
  {
   "cell_type": "raw",
   "id": "b90d9a27-7a48-4d7b-b29d-506796237f7e",
   "metadata": {},
   "source": [
    "Bir markete gittiniz. Markette her ürünün bir kod numarası var.\n",
    "1 : Domates 2 : Soğan 3 : Biber 4 : Yumurta 5 : Elma 6 : Armut ... vs. şeklinde.\n",
    "Kullanıcıya almak istediği ürünü sorunuz ve kod numarası ile seçim yaptırınız. Çıkış için \"q\" opsiyonunu sununuz. Kullanıcının her ürün seçimi sonrası \" .... domates sepete eklendi\" gibi bir dönüt veriniz. Kullanıcı ürün almaya devam ettikçe ürünleri bir listede toplayınız, almaktan vazgeçtiği durumda teşekkür edip, aldığı toplam ürünleri çıktı veren bir kod yazınız.\n",
    "Beklenen Çıktı:\n",
    "Teşekkür Ederiz...\n",
    "Sepetinizde Bulunan Ürünler: elma, armut, yumurta ... vs.\n"
   ]
  },
  {
   "cell_type": "code",
   "execution_count": 41,
   "id": "1b212dcf-7e54-48cf-9e7c-185d398f45d4",
   "metadata": {},
   "outputs": [
    {
     "name": "stdout",
     "output_type": "stream",
     "text": [
      "\n",
      "Hosgeldiniz!\n",
      "Domates icin 1'i, Sogan icin 2'yi, Biber icin 3'u, Yumurta icin 4'u, Elma icin 5'i, Armut icin 6'yi seciniz.\n",
      "Alisverisi sonlandirmak icin 'q' tusuna basiniz\n",
      "-----------------------------------------------\n"
     ]
    },
    {
     "name": "stdin",
     "output_type": "stream",
     "text": [
      "Sepete ekle=>  2\n",
      "Sepete ekle=>  3\n",
      "Sepete ekle=>  4\n",
      "Sepete ekle=>  5\n",
      "Sepete ekle=>  q\n"
     ]
    },
    {
     "name": "stdout",
     "output_type": "stream",
     "text": [
      "-----------------------------------------------\n",
      "Teşekkür Ederiz...\n",
      "Sepetinizde Bulunan Ürünler: \n",
      "Sogan Biber Yumurta Elma "
     ]
    }
   ],
   "source": [
    "dic = {1 : 'Domates', 2 : 'Sogan', 3 : 'Biber', 4 : 'Yumurta', 5 : 'Elma', 6 : 'Armut'}\n",
    "ls = []\n",
    "select = ''\n",
    "print('''\n",
    "Hosgeldiniz!\n",
    "Domates icin 1'i, Sogan icin 2'yi, Biber icin 3'u, Yumurta icin 4'u, Elma icin 5'i, Armut icin 6'yi seciniz.\n",
    "Alisverisi sonlandirmak icin 'q' tusuna basiniz\n",
    "-----------------------------------------------''')\n",
    "while select != 'q':\n",
    "    select = input('Sepete ekle=> ')\n",
    "    if select == 'q':\n",
    "        print('-----------------------------------------------')\n",
    "        print('Teşekkür Ederiz...')\n",
    "        print('Sepetinizde Bulunan Ürünler: ')\n",
    "        for i in ls:\n",
    "            print(i, end=' ')\n",
    "        break\n",
    "    elif int(select) in dic.keys():\n",
    "        \n",
    "        ls.append(dic[int(select)])\n",
    "    \n",
    "    else:\n",
    "        print('hatali giris! Lutfen tekrar giriniz.')"
   ]
  },
  {
   "cell_type": "code",
   "execution_count": null,
   "id": "9d7c2c9d-ab63-4a54-bfb0-eb775d3e849f",
   "metadata": {},
   "outputs": [],
   "source": []
  }
 ],
 "metadata": {
  "kernelspec": {
   "display_name": "Python 3",
   "language": "python",
   "name": "python3"
  },
  "language_info": {
   "codemirror_mode": {
    "name": "ipython",
    "version": 3
   },
   "file_extension": ".py",
   "mimetype": "text/x-python",
   "name": "python",
   "nbconvert_exporter": "python",
   "pygments_lexer": "ipython3",
   "version": "3.8.8"
  }
 },
 "nbformat": 4,
 "nbformat_minor": 5
}
