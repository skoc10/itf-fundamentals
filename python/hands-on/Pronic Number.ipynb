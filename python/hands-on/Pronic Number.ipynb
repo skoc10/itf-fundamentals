{
 "cells": [
  {
   "cell_type": "markdown",
   "id": "666546fc",
   "metadata": {},
   "source": [
    "```\n",
    " Pronic Number\n",
    "A pronic number (or otherwise called as heteromecic) is a number which is a product of two consecutive integers, that is, a number of the form n(n + 1). Create a function that determines whether a number is pronic or not.\n",
    "\n",
    "Examples\n",
    "is_heteromecic(0) ➞ True\n",
    "### 0 * (0 + 1) = 0 * 1 = 0\n",
    "\n",
    "is_heteromecic(2) ➞ True\n",
    "### 1 * (1 + 1) = 1 * 2 = 2\n",
    "\n",
    "is_heteromecic(7) ➞ False\n",
    "\n",
    "is_heteromecic(110) ➞ True\n",
    "### 10 * (10 + 1) = 10 * 11 = 110\n",
    "\n",
    "is_heteromecic(136) ➞ False\n",
    "\n",
    "is_heteromecic(156) ➞ True\n",
    "```"
   ]
  },
  {
   "cell_type": "code",
   "execution_count": 7,
   "id": "c5098c94",
   "metadata": {},
   "outputs": [],
   "source": [
    "def is_heteromecic(n):\n",
    "    num = 0\n",
    "    a = 0\n",
    "    b = 1\n",
    "    while num < n:\n",
    "        num = a*b\n",
    "        a = b\n",
    "        b+=1\n",
    "    if num == n:\n",
    "        return True\n",
    "    else:\n",
    "        return False\n",
    "        "
   ]
  },
  {
   "cell_type": "code",
   "execution_count": 9,
   "id": "55cace78",
   "metadata": {},
   "outputs": [
    {
     "data": {
      "text/plain": [
       "True"
      ]
     },
     "execution_count": 9,
     "metadata": {},
     "output_type": "execute_result"
    }
   ],
   "source": [
    "is_heteromecic(110)"
   ]
  },
  {
   "cell_type": "code",
   "execution_count": null,
   "id": "cb5eb6bf",
   "metadata": {},
   "outputs": [],
   "source": []
  }
 ],
 "metadata": {
  "kernelspec": {
   "display_name": "Python 3",
   "language": "python",
   "name": "python3"
  },
  "language_info": {
   "codemirror_mode": {
    "name": "ipython",
    "version": 3
   },
   "file_extension": ".py",
   "mimetype": "text/x-python",
   "name": "python",
   "nbconvert_exporter": "python",
   "pygments_lexer": "ipython3",
   "version": "3.8.8"
  }
 },
 "nbformat": 4,
 "nbformat_minor": 5
}
