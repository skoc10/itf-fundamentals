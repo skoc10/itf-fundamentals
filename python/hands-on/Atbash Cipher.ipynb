{
 "cells": [
  {
   "cell_type": "markdown",
   "id": "cce6caff",
   "metadata": {},
   "source": [
    "The Atbash cipher is an encryption method in which each letter of a word is replaced with its \"mirror\" letter in the\n",
    "\n",
    "alphabet: A <=> Z; B <=> Y; C <=> X; etc.\n",
    "\n",
    "Create a function that takes a string and applies the Atbash cipher to it.\n",
    "\n",
    "Examples\n",
    "\n",
    "atbash(\"apple\") ➞ \"zkkov\"\n",
    "\n",
    "atbash(\"Hello world!\") ➞ \"Svool dliow!\"\n",
    "\n",
    "atbash(\"Christmas is the 25th of December\") ➞ \"Xsirhgnzh rh gsv 25gs lu Wvxvnyvi\"\n",
    "\n",
    "Notes\n",
    "\n",
    "Capitalisation should be retained.\n",
    "\n",
    "Non-alphabetic characters should not be altered."
   ]
  },
  {
   "cell_type": "code",
   "execution_count": 4,
   "id": "dc3082cd",
   "metadata": {},
   "outputs": [
    {
     "data": {
      "text/plain": [
       "'Xsirhgnzh rh gsv 25gs lu Wvxvnyvi'"
      ]
     },
     "execution_count": 4,
     "metadata": {},
     "output_type": "execute_result"
    }
   ],
   "source": [
    "def atbash(s):\n",
    "    ls = ['q','w','e','r','t','y','u','i','o','p','a','s','d','f','g','h','j','k','l','z','x','c','v','b','n','m']\n",
    "    ls.sort()\n",
    "    ls1 = ls[::-1]\n",
    "    ls2 = []\n",
    "    for i in ls:\n",
    "        ls2.append(i.upper())\n",
    "    ls3 = ls2[::-1]   \n",
    "    s1 = ''\n",
    "    for i in s:\n",
    "        if i in ls:\n",
    "            s1+= ls1[ls.index(i)]\n",
    "        elif i in ls2:\n",
    "            s1+= ls3[ls2.index(i)]\n",
    "        else:\n",
    "            s1 += i\n",
    "    return s1\n",
    "    \n",
    "atbash(\"Christmas is the 25th of December\")"
   ]
  },
  {
   "cell_type": "code",
   "execution_count": null,
   "id": "f68ca0c1",
   "metadata": {},
   "outputs": [],
   "source": []
  }
 ],
 "metadata": {
  "kernelspec": {
   "display_name": "Python 3",
   "language": "python",
   "name": "python3"
  },
  "language_info": {
   "codemirror_mode": {
    "name": "ipython",
    "version": 3
   },
   "file_extension": ".py",
   "mimetype": "text/x-python",
   "name": "python",
   "nbconvert_exporter": "python",
   "pygments_lexer": "ipython3",
   "version": "3.8.8"
  }
 },
 "nbformat": 4,
 "nbformat_minor": 5
}
