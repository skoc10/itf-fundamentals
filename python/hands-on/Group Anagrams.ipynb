{
 "cells": [
  {
   "cell_type": "markdown",
   "id": "88e2d456",
   "metadata": {
    "id": "YQA2OaIsI58x"
   },
   "source": [
    "## Coding Challenge-2 : Group Anagrams\n",
    "\n",
    "Purpose of the this coding challenge is to solve a grouping algorithm in Python.\n",
    "\n",
    "### Learning Outcomes\n",
    "\n",
    "At the end of the this coding challenge, students will be able to;\n",
    "\n",
    "- get a basic understanding of grouping algorithms.\n",
    "- demonstrate their knowledge of lists, dicts in python\n",
    "- implement loops to solve the problems in python\n",
    "- get a better understanding of computational thinking concepts\n",
    "\n",
    "### Problem Statement\n",
    "  \n",
    "- Given a list of strings, group anagrams together.\n",
    "\n",
    "- Example:\n",
    "\n",
    "**Input:**\n",
    "```\n",
    "[\"eat\", \"tea\", \"tan\", \"ate\", \"nat\", \"bat\"],\n",
    "Output:\n",
    "[\n",
    "  [\"ate\",\"eat\",\"tea\"],\n",
    "  [\"nat\",\"tan\"],\n",
    "  [\"bat\"]\n",
    "]\n",
    "```\n",
    "Note:\n",
    "All inputs will be in lowercase.\n",
    "The order of your output does not matter."
   ]
  },
  {
   "cell_type": "code",
   "execution_count": 1,
   "id": "ec63006d",
   "metadata": {},
   "outputs": [
    {
     "data": {
      "text/plain": [
       "[['eata'],\n",
       " ['wqer', 'ewqr'],\n",
       " ['rteq'],\n",
       " ['rteqq'],\n",
       " ['tan', 'ant', 'nat'],\n",
       " ['zabat'],\n",
       " ['ate', 'tea'],\n",
       " ['bat']]"
      ]
     },
     "execution_count": 1,
     "metadata": {},
     "output_type": "execute_result"
    }
   ],
   "source": [
    "ls = [\"eata\", 'wqer', 'ewqr', 'rteq', 'rteqq', 'ant', 'zabat', \"tea\", \"tan\", \"ate\", \"nat\", \"bat\"]\n",
    "\n",
    "ls1 = []\n",
    "ls2 = []\n",
    "i = 0\n",
    "j = 1\n",
    "\n",
    "while i < len(ls):\n",
    "    while j < len(ls):\n",
    "        if len(ls[i]) == len(ls[j]) and set(ls[i]) == set(ls[j]):\n",
    "            ls1.append(ls[i])\n",
    "            ls1.append(ls[j])\n",
    "            ls.remove(ls[j])\n",
    "        else:\n",
    "            ls1.append(ls[i])\n",
    "            j+=1\n",
    "            \n",
    "    ls2.append(list(set(ls1)))\n",
    "    if ls[i] == ls[-1]:\n",
    "        break\n",
    "    i+=1\n",
    "    j = i+1\n",
    "    if ls[i] == ls[-1]:\n",
    "        ls2.append([ls[i]])\n",
    "        break\n",
    "    ls1 = []\n",
    "    \n",
    "ls2           "
   ]
  },
  {
   "cell_type": "code",
   "execution_count": null,
   "id": "1844dcd3",
   "metadata": {},
   "outputs": [],
   "source": []
  }
 ],
 "metadata": {
  "kernelspec": {
   "display_name": "Python 3",
   "language": "python",
   "name": "python3"
  },
  "language_info": {
   "codemirror_mode": {
    "name": "ipython",
    "version": 3
   },
   "file_extension": ".py",
   "mimetype": "text/x-python",
   "name": "python",
   "nbconvert_exporter": "python",
   "pygments_lexer": "ipython3",
   "version": "3.8.8"
  }
 },
 "nbformat": 4,
 "nbformat_minor": 5
}
