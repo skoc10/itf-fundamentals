{
 "cells": [
  {
   "cell_type": "markdown",
   "id": "cd78a8bd",
   "metadata": {},
   "source": [
    "```Given a string containing just the characters '(', ')', '{', '}', '[' and ']',\n",
    "determine if the input string is valid.\n",
    "An input string is valid if:\n",
    "Open brackets must be closed by the same type of brackets.\n",
    "Open brackets must be closed in the correct order.\n",
    "Note that an empty string is also considered valid.\n",
    "Example 1:\n",
    "Input: \"()\"\n",
    "Output: True\n",
    "Example 2:\n",
    "Input: \"()[]{}\"\n",
    "Output: True\n",
    "Example 3:\n",
    "Input: \"(]\"\n",
    "Output: False\n",
    "Example 4:\n",
    "Input: \"([)]\"\n",
    "Output: False\n",
    "Example 5:\n",
    "Input: \"{[]}\"\n",
    "Output: True (edited) ```"
   ]
  },
  {
   "cell_type": "code",
   "execution_count": 3,
   "id": "336b4811",
   "metadata": {},
   "outputs": [
    {
     "name": "stdout",
     "output_type": "stream",
     "text": [
      "Enter your code: ([{())])\n",
      "False\n"
     ]
    }
   ],
   "source": [
    "ls = list(input('Enter your code: '))\n",
    "for i in ls:\n",
    "    if i not in ('(', ')', '[', ']', '{', '}'):\n",
    "        ls = list(input('Enter valid characters: '))\n",
    "        break\n",
    "result = True  \n",
    "d = {'(':')', '[':']', '{':'}',')':'(', ']':'[', '}':'{'}\n",
    "n = 0\n",
    "count = 0\n",
    "ls1 = []\n",
    "while n < len(ls)-1:\n",
    "    if d[ls[n]] not in ls[n+1:]:\n",
    "            result = False\n",
    "            break\n",
    "    if ls[n+1] == d[ls[n]]:\n",
    "        if count == 0:\n",
    "            n = n+2\n",
    "        else:\n",
    "            ls1.reverse()\n",
    "            if ls[n+2:n+2+count] == ls1:\n",
    "                n = n+2+count\n",
    "                ls1 = []\n",
    "                count = 0\n",
    "            else:\n",
    "                result = False\n",
    "                break\n",
    "    else:\n",
    "        ls1.append(d[ls[n]])\n",
    "        count+=1\n",
    "        n+=1\n",
    "print(result)     "
   ]
  },
  {
   "cell_type": "code",
   "execution_count": 4,
   "id": "cfef9e93",
   "metadata": {},
   "outputs": [],
   "source": [
    "def isValid(s):\n",
    "    while '()' in s or '[]' in s or '{}' in s:\n",
    "        s = s.replace('()', '').replace('[]', '').replace('{}', '')\n",
    "    return s == ''\n",
    "           "
   ]
  },
  {
   "cell_type": "code",
   "execution_count": 5,
   "id": "05e220f3",
   "metadata": {},
   "outputs": [
    {
     "data": {
      "text/plain": [
       "True"
      ]
     },
     "execution_count": 5,
     "metadata": {},
     "output_type": "execute_result"
    }
   ],
   "source": [
    "isValid('(([[{{}}]]))')"
   ]
  },
  {
   "cell_type": "code",
   "execution_count": null,
   "id": "161cf7be",
   "metadata": {},
   "outputs": [],
   "source": []
  }
 ],
 "metadata": {
  "kernelspec": {
   "display_name": "Python 3",
   "language": "python",
   "name": "python3"
  },
  "language_info": {
   "codemirror_mode": {
    "name": "ipython",
    "version": 3
   },
   "file_extension": ".py",
   "mimetype": "text/x-python",
   "name": "python",
   "nbconvert_exporter": "python",
   "pygments_lexer": "ipython3",
   "version": "3.8.8"
  }
 },
 "nbformat": 4,
 "nbformat_minor": 5
}
