{
 "cells": [
  {
   "cell_type": "markdown",
   "id": "b2119e49",
   "metadata": {},
   "source": [
    "```\n",
    "Given an N by N matrix, rotate it by 90 degrees clockwise. For example, given the following matrix:\n",
    "\n",
    "[[1, 2, 3],\n",
    "[4, 5, 6],\n",
    "[7, 8, 9]]\n",
    "\n",
    "You should return:\n",
    "\n",
    "[[7, 4, 1],\n",
    "[8, 5, 2],\n",
    "[9, 6, 3]]\n",
    "```"
   ]
  },
  {
   "cell_type": "code",
   "execution_count": 23,
   "id": "45f2916e",
   "metadata": {
    "scrolled": true
   },
   "outputs": [
    {
     "data": {
      "text/plain": [
       "[[7, 4, 1], [8, 5, 2], [9, 6, 3]]"
      ]
     },
     "execution_count": 23,
     "metadata": {},
     "output_type": "execute_result"
    }
   ],
   "source": [
    "ls = [[1, 2, 3], [4, 5, 6], [7, 8, 9]]\n",
    "\n",
    "ls1, ls2 = [], []\n",
    "n = 0\n",
    "ls.reverse()\n",
    "for n in range(len(ls)):\n",
    "    for i in ls:\n",
    "        ls1.append(i[n])\n",
    "    ls2.append(ls1)\n",
    "    ls1 = []\n",
    "ls2  "
   ]
  },
  {
   "cell_type": "code",
   "execution_count": null,
   "id": "33eceb45",
   "metadata": {},
   "outputs": [],
   "source": []
  }
 ],
 "metadata": {
  "kernelspec": {
   "display_name": "Python 3",
   "language": "python",
   "name": "python3"
  },
  "language_info": {
   "codemirror_mode": {
    "name": "ipython",
    "version": 3
   },
   "file_extension": ".py",
   "mimetype": "text/x-python",
   "name": "python",
   "nbconvert_exporter": "python",
   "pygments_lexer": "ipython3",
   "version": "3.8.8"
  }
 },
 "nbformat": 4,
 "nbformat_minor": 5
}
