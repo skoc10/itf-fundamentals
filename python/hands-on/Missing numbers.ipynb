{
 "cells": [
  {
   "cell_type": "markdown",
   "id": "a93ba130",
   "metadata": {},
   "source": [
    "Elemanları ardışık sayılardan oluşan karışık halde bir liste veriliyor. Listenin en küçük elemanı ile en büyük elemanı arasında yer alan, ancak listede gösterilmeyen eksik sayılardan çift olanları çıktı veren python kodu yazınız.\n",
    "\n",
    "Beklenen Çıktı:\n",
    "\n",
    "8\n",
    "\n",
    "12\n",
    "\n",
    "14\n",
    "\n",
    "32\n",
    "\n",
    "38\n",
    "\n",
    "40"
   ]
  },
  {
   "cell_type": "code",
   "execution_count": 2,
   "id": "e7e1532c",
   "metadata": {},
   "outputs": [
    {
     "name": "stdout",
     "output_type": "stream",
     "text": [
      "8\n",
      "12\n",
      "14\n",
      "32\n",
      "38\n",
      "40\n"
     ]
    }
   ],
   "source": [
    "num = [48, 10, 11, 21, 36, 5, 6, 52, 28, 29,\n",
    "       53, 54, 45, 19, 20, 47, 55, 39, 41, 7,\n",
    "       9, 17, 26, 27, 42, 22, 37, 51, 46, 18,\n",
    "       44, 30, 34, 13, 15, 35, 33, 16, 50, 24]\n",
    "min_num = min(num)\n",
    "max_num = max(num)\n",
    "for i in range(min_num, max_num):\n",
    "    if i % 2 == 0 and i not in num:\n",
    "        print(i)"
   ]
  }
 ],
 "metadata": {
  "kernelspec": {
   "display_name": "Python 3",
   "language": "python",
   "name": "python3"
  },
  "language_info": {
   "codemirror_mode": {
    "name": "ipython",
    "version": 3
   },
   "file_extension": ".py",
   "mimetype": "text/x-python",
   "name": "python",
   "nbconvert_exporter": "python",
   "pygments_lexer": "ipython3",
   "version": "3.8.8"
  }
 },
 "nbformat": 4,
 "nbformat_minor": 5
}
