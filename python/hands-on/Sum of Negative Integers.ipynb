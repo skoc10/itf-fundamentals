{
 "cells": [
  {
   "cell_type": "markdown",
   "id": "d991a535",
   "metadata": {},
   "source": [
    "Create a function that takes a string containing integers as well as other characters and return the sum of the negative integers only.\n",
    "\n",
    "Examples\n",
    "\n",
    "negative_sum(\"-12 13%14&-11\") ➞ -23\n",
    "\n",
    "#-12 + -11 = -23\n",
    "\n",
    "negative_sum(\"22 13%14&-11-22 13 12\") ➞ -33\n",
    "\n",
    "#-11 + -22 = -33\n",
    "\n",
    "Notes\n",
    "\n",
    "There is at least one negative integer."
   ]
  },
  {
   "cell_type": "code",
   "execution_count": 32,
   "id": "abac4f97",
   "metadata": {},
   "outputs": [],
   "source": [
    "def negative_sum(s):\n",
    "    result = 0\n",
    "    s1 = ''\n",
    "    for i in s:\n",
    "        if i == '-':\n",
    "            n = s.index(i)\n",
    "            for k in s[n+1:]:\n",
    "                if k.isdigit():\n",
    "                    s1+=k\n",
    "                else:\n",
    "                    break\n",
    "            result+=int(s1)\n",
    "            s1 = ''\n",
    "            s = s[n+1:]\n",
    "    return -result"
   ]
  },
  {
   "cell_type": "code",
   "execution_count": 33,
   "id": "63ce3f29",
   "metadata": {},
   "outputs": [
    {
     "data": {
      "text/plain": [
       "-33"
      ]
     },
     "execution_count": 33,
     "metadata": {},
     "output_type": "execute_result"
    }
   ],
   "source": [
    "negative_sum(\"22 13%14&-11-22 13 12\")  "
   ]
  },
  {
   "cell_type": "code",
   "execution_count": null,
   "id": "b0d3101a",
   "metadata": {},
   "outputs": [],
   "source": []
  }
 ],
 "metadata": {
  "kernelspec": {
   "display_name": "Python 3",
   "language": "python",
   "name": "python3"
  },
  "language_info": {
   "codemirror_mode": {
    "name": "ipython",
    "version": 3
   },
   "file_extension": ".py",
   "mimetype": "text/x-python",
   "name": "python",
   "nbconvert_exporter": "python",
   "pygments_lexer": "ipython3",
   "version": "3.8.8"
  }
 },
 "nbformat": 4,
 "nbformat_minor": 5
}
