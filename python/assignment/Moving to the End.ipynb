{
 "cells": [
  {
   "cell_type": "markdown",
   "id": "e9fe8f7e",
   "metadata": {},
   "source": [
    "### Write a function that moves all elements of one type to the end of the list.\n",
    "\n",
    "Examples\n",
    "\n",
    "move_to_end([1, 3, 2, 4, 4, 1], 1) ➞ [3, 2, 4, 4, 1, 1]\n",
    "\n",
    "Move all the 1s to the end of the array.\n",
    "\n",
    "move_to_end([7, 8, 9, 1, 2, 3, 4], 9) ➞ [7, 8, 1, 2, 3, 4, 9]\n",
    "\n",
    "move_to_end([\"a\", \"a\", \"a\", \"b\"], \"a\") ➞ [\"b\", \"a\", \"a\", \"a\"]\n",
    "\n",
    "Notes\n",
    "\n",
    "Keep the order of the un-moved items the same."
   ]
  },
  {
   "cell_type": "code",
   "execution_count": 3,
   "id": "efc12ace",
   "metadata": {},
   "outputs": [],
   "source": [
    "def move_to_end(ls, x):\n",
    "    for i in ls:\n",
    "        if i == x:\n",
    "            ls.append(i)\n",
    "            ls.pop(ls.index(i))\n",
    "    return ls"
   ]
  },
  {
   "cell_type": "code",
   "execution_count": 7,
   "id": "f780b5c2",
   "metadata": {
    "scrolled": true
   },
   "outputs": [
    {
     "data": {
      "text/plain": [
       "['b', 'a', 'a', 'a']"
      ]
     },
     "execution_count": 7,
     "metadata": {},
     "output_type": "execute_result"
    }
   ],
   "source": [
    "move_to_end([\"a\", \"a\", \"a\", \"b\"], \"a\")"
   ]
  },
  {
   "cell_type": "code",
   "execution_count": null,
   "id": "65adf4f1",
   "metadata": {},
   "outputs": [],
   "source": []
  }
 ],
 "metadata": {
  "kernelspec": {
   "display_name": "Python 3",
   "language": "python",
   "name": "python3"
  },
  "language_info": {
   "codemirror_mode": {
    "name": "ipython",
    "version": 3
   },
   "file_extension": ".py",
   "mimetype": "text/x-python",
   "name": "python",
   "nbconvert_exporter": "python",
   "pygments_lexer": "ipython3",
   "version": "3.8.8"
  }
 },
 "nbformat": 4,
 "nbformat_minor": 5
}
