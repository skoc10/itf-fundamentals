{
 "cells": [
  {
   "cell_type": "code",
   "execution_count": 1,
   "id": "e2703b4a",
   "metadata": {},
   "outputs": [],
   "source": [
    "def sum_double(x, y):\n",
    "    if x == y:\n",
    "        return x*y\n",
    "    else:\n",
    "        return x+y"
   ]
  },
  {
   "cell_type": "code",
   "execution_count": 3,
   "id": "a341c3db",
   "metadata": {},
   "outputs": [
    {
     "data": {
      "text/plain": [
       "9"
      ]
     },
     "execution_count": 3,
     "metadata": {},
     "output_type": "execute_result"
    }
   ],
   "source": [
    "sum_double(5, 4)"
   ]
  },
  {
   "cell_type": "code",
   "execution_count": 31,
   "id": "b88e311f",
   "metadata": {},
   "outputs": [],
   "source": [
    "def front_back(word):\n",
    "    if len(word) == 1:\n",
    "        return word\n",
    "    else:\n",
    "        first = word[0]\n",
    "        last = word[-1]\n",
    "        \n",
    "        return word.replace(word[0], last).replace(word[-1], first)\n",
    "        \n"
   ]
  },
  {
   "cell_type": "code",
   "execution_count": 32,
   "id": "52229eeb",
   "metadata": {},
   "outputs": [
    {
     "name": "stdout",
     "output_type": "stream",
     "text": [
      "aa\n"
     ]
    }
   ],
   "source": [
    "#print(front_back('clarusway'))\n",
    "#print(front_back('a'))\n",
    "print(front_back('ab'))"
   ]
  },
  {
   "cell_type": "code",
   "execution_count": null,
   "id": "03e67987",
   "metadata": {},
   "outputs": [],
   "source": []
  },
  {
   "cell_type": "code",
   "execution_count": null,
   "id": "178ef82a",
   "metadata": {},
   "outputs": [],
   "source": []
  },
  {
   "cell_type": "code",
   "execution_count": null,
   "id": "c7977c49",
   "metadata": {},
   "outputs": [],
   "source": []
  }
 ],
 "metadata": {
  "kernelspec": {
   "display_name": "Python 3",
   "language": "python",
   "name": "python3"
  },
  "language_info": {
   "codemirror_mode": {
    "name": "ipython",
    "version": 3
   },
   "file_extension": ".py",
   "mimetype": "text/x-python",
   "name": "python",
   "nbconvert_exporter": "python",
   "pygments_lexer": "ipython3",
   "version": "3.8.8"
  }
 },
 "nbformat": 4,
 "nbformat_minor": 5
}
