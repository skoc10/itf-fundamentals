{
 "cells": [
  {
   "cell_type": "code",
   "execution_count": 1,
   "id": "e2703b4a",
   "metadata": {},
   "outputs": [],
   "source": [
    "def sum_double(x, y):\n",
    "    if x == y:\n",
    "        return x*y\n",
    "    else:\n",
    "        return x+y"
   ]
  },
  {
   "cell_type": "code",
   "execution_count": 3,
   "id": "a341c3db",
   "metadata": {},
   "outputs": [
    {
     "data": {
      "text/plain": [
       "9"
      ]
     },
     "execution_count": 3,
     "metadata": {},
     "output_type": "execute_result"
    }
   ],
   "source": [
    "sum_double(5, 4)"
   ]
  },
  {
   "cell_type": "code",
   "execution_count": null,
   "id": "b88e311f",
   "metadata": {},
   "outputs": [],
   "source": [
    "def front_back(word):\n",
    "    return word[-1]+"
   ]
  },
  {
   "cell_type": "code",
   "execution_count": null,
   "id": "31924c50",
   "metadata": {},
   "outputs": [],
   "source": [
    "print(front_back('clarusway'))\n",
    "print(front_back('a'))\n",
    "print(front_back('ab'))"
   ]
  }
 ],
 "metadata": {
  "kernelspec": {
   "display_name": "Python 3",
   "language": "python",
   "name": "python3"
  },
  "language_info": {
   "codemirror_mode": {
    "name": "ipython",
    "version": 3
   },
   "file_extension": ".py",
   "mimetype": "text/x-python",
   "name": "python",
   "nbconvert_exporter": "python",
   "pygments_lexer": "ipython3",
   "version": "3.8.8"
  }
 },
 "nbformat": 4,
 "nbformat_minor": 5
}
