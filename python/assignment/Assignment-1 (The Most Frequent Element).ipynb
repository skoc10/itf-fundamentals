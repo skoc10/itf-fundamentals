{
 "cells": [
  {
   "cell_type": "code",
   "execution_count": 3,
   "id": "0532a61a",
   "metadata": {},
   "outputs": [
    {
     "name": "stdout",
     "output_type": "stream",
     "text": [
      "The most frequent number is 9 and it was 10 times repeated\n"
     ]
    }
   ],
   "source": [
    "numbers = [3,3,3,1, 9,9,9,9,3, 7, 4, 3, 0, 3, 6, 3,9,9,9,9,9,9]\n",
    "\n",
    "n = max(set(numbers), key = numbers.count)\n",
    "\n",
    "print(f'The most frequent number is {max(set(numbers), key = numbers.count)} and it was {numbers.count(n)} times repeated')\n"
   ]
  },
  {
   "cell_type": "code",
   "execution_count": 4,
   "id": "8c3b6c44",
   "metadata": {},
   "outputs": [
    {
     "name": "stdout",
     "output_type": "stream",
     "text": [
      "The most frequent number is 9 and it was 10 times repeated\n"
     ]
    }
   ],
   "source": [
    "numbers = [3,3,3,1, 9,9,9,9,3, 7, 4, 3, 0, 3, 6, 3,9,9,9,9,9,9]\n",
    "ls = []\n",
    "\n",
    "for i in numbers:\n",
    "\n",
    "    ls.append(numbers.count(i))\n",
    "\n",
    "print(f'The most frequent number is {numbers[ls.index(max(ls))]} and it was {max(ls)} times repeated')"
   ]
  },
  {
   "cell_type": "code",
   "execution_count": null,
   "id": "97f327a5",
   "metadata": {},
   "outputs": [],
   "source": []
  }
 ],
 "metadata": {
  "kernelspec": {
   "display_name": "Python 3",
   "language": "python",
   "name": "python3"
  },
  "language_info": {
   "codemirror_mode": {
    "name": "ipython",
    "version": 3
   },
   "file_extension": ".py",
   "mimetype": "text/x-python",
   "name": "python",
   "nbconvert_exporter": "python",
   "pygments_lexer": "ipython3",
   "version": "3.8.8"
  }
 },
 "nbformat": 4,
 "nbformat_minor": 5
}
