{
 "cells": [
  {
   "cell_type": "code",
   "execution_count": 15,
   "id": "2ac95b4a",
   "metadata": {},
   "outputs": [
    {
     "name": "stdout",
     "output_type": "stream",
     "text": [
      "Enter a number: 17333509997782249308725103962772\n",
      "17333509997782249308725103962772 is an Armstrong number\n"
     ]
    }
   ],
   "source": [
    "num = input('Enter a number: ')\n",
    "n_sum = 0\n",
    "if num.isdigit():\n",
    "    for i in num:\n",
    "        n_sum += int(i)**len(num)\n",
    "    if n_sum == int(num):\n",
    "        print(f'{num} is an Armstrong number')\n",
    "    else:\n",
    "        print(f'{num} is not an Armstrong number')\n",
    "else:\n",
    "    print(\" It is an invalid entry. Don't use non-numeric, float, or negative values!\")\n",
    "\n",
    "    "
   ]
  },
  {
   "cell_type": "code",
   "execution_count": null,
   "id": "abd0e4ad",
   "metadata": {},
   "outputs": [],
   "source": []
  },
  {
   "cell_type": "code",
   "execution_count": 16,
   "id": "3e739bc7",
   "metadata": {},
   "outputs": [
    {
     "name": "stdout",
     "output_type": "stream",
     "text": [
      "Enter a  positive integer number: 17333509997782249308725103962772\n",
      "17333509997782249308725103962772 is an Armstrong number\n"
     ]
    }
   ],
   "source": [
    "while True:\n",
    "    num = 0\n",
    "    n = input('Enter a  positive integer number: ')\n",
    "    if not n.isdigit():\n",
    "        print(\" It is an invalid entry. Don't use non-numeric, float, or negative values!\")\n",
    "    elif int(n) >= 0:\n",
    "        for i in n:\n",
    "            num+=int(i)**len(n)\n",
    "        if int(n) == num:\n",
    "            print(f'{num} is an Armstrong number')\n",
    "            break\n",
    "        else:\n",
    "            print(f'{num} is not an Armstrong number')\n",
    "            break\n",
    "            \n",
    "            "
   ]
  },
  {
   "cell_type": "code",
   "execution_count": null,
   "id": "b2a3c28a",
   "metadata": {},
   "outputs": [],
   "source": []
  },
  {
   "cell_type": "code",
   "execution_count": 8,
   "id": "8880b4ab",
   "metadata": {},
   "outputs": [
    {
     "data": {
      "text/plain": [
       "32164"
      ]
     },
     "execution_count": 8,
     "metadata": {},
     "output_type": "execute_result"
    }
   ],
   "source": [
    "32164"
   ]
  },
  {
   "cell_type": "code",
   "execution_count": null,
   "id": "fce11ee8",
   "metadata": {},
   "outputs": [],
   "source": []
  }
 ],
 "metadata": {
  "kernelspec": {
   "display_name": "Python 3",
   "language": "python",
   "name": "python3"
  },
  "language_info": {
   "codemirror_mode": {
    "name": "ipython",
    "version": 3
   },
   "file_extension": ".py",
   "mimetype": "text/x-python",
   "name": "python",
   "nbconvert_exporter": "python",
   "pygments_lexer": "ipython3",
   "version": "3.8.8"
  }
 },
 "nbformat": 4,
 "nbformat_minor": 5
}
