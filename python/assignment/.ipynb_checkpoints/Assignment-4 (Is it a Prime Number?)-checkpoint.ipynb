{
 "cells": [
  {
   "cell_type": "code",
   "execution_count": 3,
   "id": "8dea2170",
   "metadata": {},
   "outputs": [
    {
     "name": "stdout",
     "output_type": "stream",
     "text": [
      "Give me a number: 17\n",
      "17 is a prime number\n"
     ]
    }
   ],
   "source": [
    "number = int(input('Give me a number: '))\n",
    "if number < 2:\n",
    "    print('Enter another number')\n",
    "    number = int(input('Give me a number: '))\n",
    "for i in range(2, number):\n",
    "    if number % i == 0:\n",
    "        print(f'{number} is not a prime number')\n",
    "        break\n",
    "else:\n",
    "    print(f'{number} is a prime number')"
   ]
  },
  {
   "cell_type": "code",
   "execution_count": null,
   "id": "f83c2fc8",
   "metadata": {},
   "outputs": [],
   "source": []
  }
 ],
 "metadata": {
  "kernelspec": {
   "display_name": "Python 3",
   "language": "python",
   "name": "python3"
  },
  "language_info": {
   "codemirror_mode": {
    "name": "ipython",
    "version": 3
   },
   "file_extension": ".py",
   "mimetype": "text/x-python",
   "name": "python",
   "nbconvert_exporter": "python",
   "pygments_lexer": "ipython3",
   "version": "3.8.8"
  }
 },
 "nbformat": 4,
 "nbformat_minor": 5
}
