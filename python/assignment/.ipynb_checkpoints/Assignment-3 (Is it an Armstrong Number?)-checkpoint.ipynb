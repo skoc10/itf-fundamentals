{
 "cells": [
  {
   "cell_type": "code",
   "execution_count": 5,
   "id": "2ac95b4a",
   "metadata": {},
   "outputs": [
    {
     "name": "stdout",
     "output_type": "stream",
     "text": [
      "Enter a number: 867546544\n",
      "867546544 is not an Armstrong number\n"
     ]
    }
   ],
   "source": [
    "num = input('Enter a number: ')\n",
    "n_sum = 0\n",
    "if num.isdigit():\n",
    "    for i in num:\n",
    "        n_sum += int(i)**len(num)\n",
    "    if n_sum == int(num):\n",
    "        print(f'{num} is an Armstrong number')\n",
    "    else:\n",
    "        print(f'{num} is not an Armstrong number')\n",
    "else:\n",
    "    print(\" It is an invalid entry. Don't use non-numeric, float, or negative values!\")\n",
    "\n",
    "    "
   ]
  },
  {
   "cell_type": "code",
   "execution_count": null,
   "id": "abd0e4ad",
   "metadata": {},
   "outputs": [],
   "source": []
  },
  {
   "cell_type": "code",
   "execution_count": null,
   "id": "3e739bc7",
   "metadata": {},
   "outputs": [],
   "source": [
    "while True:\n",
    "    n = input('Enter a  positive integer number: ')"
   ]
  }
 ],
 "metadata": {
  "kernelspec": {
   "display_name": "Python 3",
   "language": "python",
   "name": "python3"
  },
  "language_info": {
   "codemirror_mode": {
    "name": "ipython",
    "version": 3
   },
   "file_extension": ".py",
   "mimetype": "text/x-python",
   "name": "python",
   "nbconvert_exporter": "python",
   "pygments_lexer": "ipython3",
   "version": "3.8.8"
  }
 },
 "nbformat": 4,
 "nbformat_minor": 5
}
