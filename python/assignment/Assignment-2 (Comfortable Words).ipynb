{
 "cells": [
  {
   "cell_type": "code",
   "execution_count": 1,
   "id": "91105108",
   "metadata": {},
   "outputs": [
    {
     "name": "stdout",
     "output_type": "stream",
     "text": [
      "enter word: slkdnh\n",
      "True\n"
     ]
    }
   ],
   "source": [
    "left_hand = {'q','a','z','w','s','x','e','d','c','r','f','v','t','g','b'}\n",
    "\n",
    "\n",
    "\n",
    "right_hand = {'y','h','n','u','j','m','i','k','o','l','p'}\n",
    "\n",
    "\n",
    "\n",
    "word = set(input('enter word: ').strip().lower())\n",
    "\n",
    "\n",
    "\n",
    "result = not(word.issubset(left_hand) or word.issubset(right_hand))\n",
    "\n",
    "\n",
    "\n",
    "print(result)"
   ]
  },
  {
   "cell_type": "code",
   "execution_count": null,
   "id": "a9024a47",
   "metadata": {},
   "outputs": [],
   "source": []
  }
 ],
 "metadata": {
  "kernelspec": {
   "display_name": "Python 3",
   "language": "python",
   "name": "python3"
  },
  "language_info": {
   "codemirror_mode": {
    "name": "ipython",
    "version": 3
   },
   "file_extension": ".py",
   "mimetype": "text/x-python",
   "name": "python",
   "nbconvert_exporter": "python",
   "pygments_lexer": "ipython3",
   "version": "3.8.8"
  }
 },
 "nbformat": 4,
 "nbformat_minor": 5
}
