{
 "cells": [
  {
   "cell_type": "markdown",
   "id": "e2558ee9",
   "metadata": {},
   "source": [
    "Task:\n",
    "\n",
    "Count the number of each letter in a sentence.\n",
    "\n",
    "The department you work for undertook a project construction that makes word / text analysis. You are asked to calculate the number of letters or any chars in the sentences entered under this project.\n",
    "Write a Python program that;\n",
    "\n",
    "takes a sentence from the user,\n",
    "\n",
    "counts the number of each letter of the sentence,\n",
    "\n",
    "collects the letters/chars as a key and the counted numbers as a value in a dictionary.\n",
    "\n",
    "Examples\n",
    "\n",
    "Sample inputs\tOutputs\n",
    "\n",
    "hippo runs to us!\t\n",
    "\n",
    "{'s': 2, 'r': 1, 't': 1, 'h': 1, 'n': 1, \n",
    "'i': 1, 'u': 2, 'o': 2, 'p': 2, ' ': 3, '!': 1}"
   ]
  },
  {
   "cell_type": "code",
   "execution_count": 5,
   "id": "b4224570",
   "metadata": {},
   "outputs": [
    {
     "name": "stdout",
     "output_type": "stream",
     "text": [
      "Give me a sentence: The department you work for undertook a project construction that makes word / text analysis. You are asked to calculate the number of letters or any chars in the sentences entered under this project.\n",
      "{'t': 20, 'h': 6, 'e': 23, ' ': 33, 'd': 6, 'p': 3, 'a': 12, 'r': 15, 'm': 3, 'n': 12, 'y': 3, 'o': 14, 'u': 7, 'w': 2, 'k': 4, 'f': 2, 'j': 2, 'c': 8, 's': 10, 'i': 4, '/': 1, 'x': 1, 'l': 4, '.': 2, 'b': 1}\n"
     ]
    }
   ],
   "source": [
    "s = input('Give me a sentence: ')\n",
    "dic = {}\n",
    "for i in s.lower():\n",
    "    if i in dic:\n",
    "        continue\n",
    "    else:\n",
    "        dic[i]=s.count(i) \n",
    "print(dic)  "
   ]
  },
  {
   "cell_type": "code",
   "execution_count": null,
   "id": "619e57ef",
   "metadata": {},
   "outputs": [],
   "source": []
  }
 ],
 "metadata": {
  "kernelspec": {
   "display_name": "Python 3",
   "language": "python",
   "name": "python3"
  },
  "language_info": {
   "codemirror_mode": {
    "name": "ipython",
    "version": 3
   },
   "file_extension": ".py",
   "mimetype": "text/x-python",
   "name": "python",
   "nbconvert_exporter": "python",
   "pygments_lexer": "ipython3",
   "version": "3.8.8"
  }
 },
 "nbformat": 4,
 "nbformat_minor": 5
}
